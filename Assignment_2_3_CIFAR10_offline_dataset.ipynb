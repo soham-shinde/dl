{
 "cells": [
  {
   "cell_type": "markdown",
   "id": "e9b40e93",
   "metadata": {},
   "source": [
    "# Feedforward Neural Network Implementation with Keras and TensorFlow: CIFAR-10 Dataset\n",
    "This Jupyter notebook demonstrates the implementation of a feedforward neural network using Keras and TensorFlow. The goal of this assignment is to walk through the process of building, training, and evaluating a neural network for image classification. We will use the MNIST or CIFAR-10 dataset as per your choice.<br>\n",
    "Dataset: https://www.cs.toronto.edu/%7Ekriz/cifar.html <br>\n",
    "Info: The CIFAR-10 dataset consists of 60000 32x32 colour images in 10 classes, with 6000 images per class. There are 50000 training images and 10000 test images.\n",
    "\n",
    "## Assignment Steps:\n",
    "\n",
    "**a. Import the necessary packages**: We will start by importing the required Python libraries, including Keras, TensorFlow, and other essential packages.\n",
    "\n",
    "**b. Load the training and testing data**: In this step, we will load the dataset (either MNIST or CIFAR-10) for training and testing the neural network.\n",
    "\n",
    "**c. Define the network architecture using Keras**: Here, we will define the architecture of our feedforward neural network, specifying the number of layers, neurons, and activation functions.\n",
    "\n",
    "**d. Train the model using SGD (Stochastic Gradient Descent)**: We will use the Stochastic Gradient Descent optimizer to train the neural network on the training data.\n",
    "\n",
    "**e. Evaluate the network**: After training, we will evaluate the performance of the model on the testing data to assess its accuracy and other relevant metrics.\n",
    "\n",
    "**f. Plot the training loss and accuracy**: We will create plots to visualize the training loss and accuracy over epochs, providing insights into the model's learning progress.\n",
    "\n",
    "Feel free to follow along with the code and explanations provided in this notebook to gain a better understanding of building and training neural networks for image classification.\n",
    "\n",
    "# Build the Image classification model by dividing the model into following 4 stages:\n",
    "a. Loading and preprocessing the image data<br>\n",
    "b. Defining the model’s architecture<br>\n",
    "c. Training the model<br>\n",
    "d. Estimating the model’s performance<br>\n",
    "\n",
    "Note: Both assignment can use this code accordingly"
   ]
  },
  {
   "cell_type": "code",
   "execution_count": 1,
   "id": "c0491969",
   "metadata": {},
   "outputs": [],
   "source": [
    "# !pip install tensorflow matplotlib\n",
    "import tensorflow as tf\n",
    "from tensorflow import keras\n",
    "from tensorflow.keras import layers\n",
    "import matplotlib.pyplot as plt\n",
    "import random\n",
    "from tensorflow.keras.preprocessing.image import ImageDataGenerator\n",
    "import numpy as np"
   ]
  },
  {
   "cell_type": "code",
   "execution_count": 2,
   "id": "4c3cab30",
   "metadata": {},
   "outputs": [],
   "source": [
    "# Define the paths to the training and testing data directories\n",
    "# D:\\Eng\\B.E\\DL\\deepLearning\\dataset\\cifar-10-img\\cifar-10-img\\train\n",
    "train_data_dir = 'cifar10/cifar10/train'\n",
    "test_data_dir = 'cifar10/cifar10/test'"
   ]
  },
  {
   "cell_type": "code",
   "execution_count": 3,
   "id": "f1bd496a",
   "metadata": {},
   "outputs": [
    {
     "name": "stdout",
     "output_type": "stream",
     "text": [
      "Found 50000 images belonging to 10 classes.\n",
      "Found 10000 images belonging to 10 classes.\n"
     ]
    }
   ],
   "source": [
    "# Set up an ImageDataGenerator to rescale pixel values to [0, 1]\n",
    "image_data_generator = ImageDataGenerator(rescale=1.0/255)\n",
    "\n",
    "# Define batch sizes\n",
    "train_batch_size = 20000\n",
    "test_batch_size = 2000\n",
    "\n",
    "# Create data generators for training and testing\n",
    "train_generator = image_data_generator.flow_from_directory(\n",
    "    train_data_dir,\n",
    "    target_size=(32, 32),  # Resize images to 28x28 pixels\n",
    "    batch_size=train_batch_size,  # Number of images per training batch\n",
    "    class_mode='categorical',  # One-hot encoded labels\n",
    "    shuffle=True,  # Shuffle the order of images during training\n",
    ")\n",
    "\n",
    "test_generator = image_data_generator.flow_from_directory(\n",
    "    test_data_dir,\n",
    "    target_size=(32, 32),  # Resize images to 28x28 pixels\n",
    "    batch_size=test_batch_size,  # Number of images per testing batch\n",
    "    class_mode='categorical',  # One-hot encoded labels\n",
    "    shuffle=True,  # Shuffle the order of images during testing\n",
    ")"
   ]
  },
  {
   "cell_type": "code",
   "execution_count": 4,
   "id": "42c38034",
   "metadata": {},
   "outputs": [],
   "source": [
    "x_train, y_train = train_generator[0]\n",
    "x_test, y_test = test_generator[0]"
   ]
  },
  {
   "cell_type": "code",
   "execution_count": 5,
   "id": "b7b670e9",
   "metadata": {},
   "outputs": [
    {
     "name": "stdout",
     "output_type": "stream",
     "text": [
      "Shape of X_train (20000, 32, 32, 3)\n",
      "Shape of y_train (20000, 10)\n",
      "Shape of x_test  (2000, 32, 32, 3)\n",
      "Shape of y_test  (2000, 10)\n"
     ]
    }
   ],
   "source": [
    "print(f\"Shape of X_train {x_train.shape}\")\n",
    "print(f\"Shape of y_train {y_train.shape}\")\n",
    "print(f\"Shape of x_test  {x_test.shape}\")\n",
    "print(f\"Shape of y_test  {y_test.shape}\")"
   ]
  },
  {
   "cell_type": "code",
   "execution_count": 6,
   "id": "ac00705a",
   "metadata": {},
   "outputs": [],
   "source": [
    "num_classes = 10\n",
    "class_names = ['airplane','automobile','bird','cat','deer',\n",
    "               'dog','frog','horse','ship','truck']"
   ]
  },
  {
   "cell_type": "code",
   "execution_count": 7,
   "id": "0617f2cd",
   "metadata": {},
   "outputs": [
    {
     "data": {
      "text/plain": [
       "(32, 32, 3)"
      ]
     },
     "execution_count": 7,
     "metadata": {},
     "output_type": "execute_result"
    }
   ],
   "source": [
    "x_train.shape[1:]"
   ]
  },
  {
   "cell_type": "code",
   "execution_count": 8,
   "id": "f777dae1",
   "metadata": {},
   "outputs": [
    {
     "name": "stderr",
     "output_type": "stream",
     "text": [
      "D:\\Libraries\\Desktop\\Study Doc\\DL\\SPPU-BE-IT-DL-ASSIGNMENTS-main\\SPPU-BE-IT-DL-ASSIGNMENTS-main\\venv\\lib\\site-packages\\keras\\src\\layers\\convolutional\\base_conv.py:107: UserWarning: Do not pass an `input_shape`/`input_dim` argument to a layer. When using Sequential models, prefer using an `Input(shape)` object as the first layer in the model instead.\n",
      "  super().__init__(activity_regularizer=activity_regularizer, **kwargs)\n"
     ]
    }
   ],
   "source": [
    "# Create a list of layers\n",
    "model = keras.Sequential([\n",
    "    layers.Conv2D(32, (3, 3), activation='relu', input_shape=(32, 32, 3)),\n",
    "    layers.BatchNormalization(),\n",
    "    layers.Conv2D(32, (3, 3), activation='relu'),\n",
    "    layers.BatchNormalization(),\n",
    "    layers.MaxPooling2D((2, 2)),\n",
    "    \n",
    "    layers.Conv2D(64, (3, 3), activation='relu'),\n",
    "    layers.BatchNormalization(),\n",
    "    layers.MaxPooling2D((2, 2)),\n",
    "    \n",
    "    layers.Conv2D(128, (3, 3), activation='relu'),\n",
    "    layers.BatchNormalization(),\n",
    "    layers.MaxPooling2D((2, 2)),\n",
    "    \n",
    "    layers.Flatten(),\n",
    "    layers.Dense(512, activation='relu'),\n",
    "    layers.Dropout(0.2),\n",
    "    \n",
    "    layers.Dense(512, activation='relu'),\n",
    "    layers.Dropout(0.2),\n",
    "    \n",
    "    layers.Dense(10, activation='softmax')\n",
    "])"
   ]
  },
  {
   "cell_type": "code",
   "execution_count": 9,
   "id": "a1a28156",
   "metadata": {
    "scrolled": true
   },
   "outputs": [
    {
     "name": "stdout",
     "output_type": "stream",
     "text": [
      "Epoch 1/10\n",
      "\u001b[1m1000/1000\u001b[0m \u001b[32m━━━━━━━━━━━━━━━━━━━━\u001b[0m\u001b[37m\u001b[0m \u001b[1m35s\u001b[0m 26ms/step - accuracy: 0.3147 - loss: 1.9170 - val_accuracy: 0.3700 - val_loss: 1.7679\n",
      "Epoch 2/10\n",
      "\u001b[1m1000/1000\u001b[0m \u001b[32m━━━━━━━━━━━━━━━━━━━━\u001b[0m\u001b[37m\u001b[0m \u001b[1m26s\u001b[0m 26ms/step - accuracy: 0.5003 - loss: 1.4011 - val_accuracy: 0.5430 - val_loss: 1.2740\n",
      "Epoch 3/10\n",
      "\u001b[1m1000/1000\u001b[0m \u001b[32m━━━━━━━━━━━━━━━━━━━━\u001b[0m\u001b[37m\u001b[0m \u001b[1m26s\u001b[0m 25ms/step - accuracy: 0.5823 - loss: 1.1883 - val_accuracy: 0.5955 - val_loss: 1.1667\n",
      "Epoch 4/10\n",
      "\u001b[1m1000/1000\u001b[0m \u001b[32m━━━━━━━━━━━━━━━━━━━━\u001b[0m\u001b[37m\u001b[0m \u001b[1m34s\u001b[0m 34ms/step - accuracy: 0.6258 - loss: 1.0700 - val_accuracy: 0.6295 - val_loss: 1.0756\n",
      "Epoch 5/10\n",
      "\u001b[1m1000/1000\u001b[0m \u001b[32m━━━━━━━━━━━━━━━━━━━━\u001b[0m\u001b[37m\u001b[0m \u001b[1m34s\u001b[0m 34ms/step - accuracy: 0.6659 - loss: 0.9545 - val_accuracy: 0.6170 - val_loss: 1.1098\n",
      "Epoch 6/10\n",
      "\u001b[1m1000/1000\u001b[0m \u001b[32m━━━━━━━━━━━━━━━━━━━━\u001b[0m\u001b[37m\u001b[0m \u001b[1m31s\u001b[0m 31ms/step - accuracy: 0.6902 - loss: 0.8703 - val_accuracy: 0.6765 - val_loss: 0.9312\n",
      "Epoch 7/10\n",
      "\u001b[1m1000/1000\u001b[0m \u001b[32m━━━━━━━━━━━━━━━━━━━━\u001b[0m\u001b[37m\u001b[0m \u001b[1m34s\u001b[0m 24ms/step - accuracy: 0.7256 - loss: 0.7708 - val_accuracy: 0.6720 - val_loss: 0.9441\n",
      "Epoch 8/10\n",
      "\u001b[1m1000/1000\u001b[0m \u001b[32m━━━━━━━━━━━━━━━━━━━━\u001b[0m\u001b[37m\u001b[0m \u001b[1m22s\u001b[0m 22ms/step - accuracy: 0.7605 - loss: 0.6800 - val_accuracy: 0.6705 - val_loss: 0.9790\n",
      "Epoch 9/10\n",
      "\u001b[1m1000/1000\u001b[0m \u001b[32m━━━━━━━━━━━━━━━━━━━━\u001b[0m\u001b[37m\u001b[0m \u001b[1m20s\u001b[0m 20ms/step - accuracy: 0.7726 - loss: 0.6278 - val_accuracy: 0.6755 - val_loss: 0.9800\n",
      "Epoch 10/10\n",
      "\u001b[1m1000/1000\u001b[0m \u001b[32m━━━━━━━━━━━━━━━━━━━━\u001b[0m\u001b[37m\u001b[0m \u001b[1m24s\u001b[0m 24ms/step - accuracy: 0.8044 - loss: 0.5640 - val_accuracy: 0.6865 - val_loss: 0.9553\n"
     ]
    }
   ],
   "source": [
    "from tensorflow.keras.optimizers import SGD\n",
    "# Compile the model\n",
    "sgd_optimizer = SGD(learning_rate=0.01)\n",
    "\n",
    "model.compile(optimizer=sgd_optimizer, loss='categorical_crossentropy', metrics=['accuracy'])\n",
    "\n",
    "# Training the model\n",
    "history = model.fit(x_train, y_train,\n",
    "              batch_size=20,\n",
    "              epochs=10,\n",
    "              validation_data=(x_test, y_test),\n",
    "              shuffle=True)"
   ]
  },
  {
   "cell_type": "code",
   "execution_count": 10,
   "id": "3d1247f1",
   "metadata": {},
   "outputs": [
    {
     "data": {
      "text/plain": [
       "<Axes: >"
      ]
     },
     "execution_count": 10,
     "metadata": {},
     "output_type": "execute_result"
    },
    {
     "data": {
      "image/png": "[encoded data removed]",
      "text/plain": [
       "<Figure size 640x480 with 1 Axes>"
      ]
     },
     "metadata": {},
     "output_type": "display_data"
    }
   ],
   "source": [
    "import seaborn as sns\n",
    "sns.lineplot(model.history.history)"
   ]
  },
  {
   "cell_type": "code",
   "execution_count": 11,
   "id": "56c877f2",
   "metadata": {},
   "outputs": [
    {
     "name": "stdout",
     "output_type": "stream",
     "text": [
      "\u001b[1m63/63\u001b[0m \u001b[32m━━━━━━━━━━━━━━━━━━━━\u001b[0m\u001b[37m\u001b[0m \u001b[1m1s\u001b[0m 7ms/step - accuracy: 0.6827 - loss: 0.9413\n",
      "Loss:  0.9553266763687134\n",
      "Accuracy:  0.6865000128746033\n"
     ]
    }
   ],
   "source": [
    "test_loss, test_acc = model.evaluate(x_test, y_test)\n",
    "print(\"Loss: \", test_loss)\n",
    "print(\"Accuracy: \", test_acc)"
   ]
  },
  {
   "cell_type": "code",
   "execution_count": 12,
   "id": "fc1d2b2d",
   "metadata": {},
   "outputs": [
    {
     "name": "stdout",
     "output_type": "stream",
     "text": [
      "\u001b[1m63/63\u001b[0m \u001b[32m━━━━━━━━━━━━━━━━━━━━\u001b[0m\u001b[37m\u001b[0m \u001b[1m1s\u001b[0m 9ms/step\n"
     ]
    },
    {
     "data": {
      "image/png": "[encoded data removed]",
      "text/plain": [
       "<Figure size 640x480 with 1 Axes>"
      ]
     },
     "metadata": {},
     "output_type": "display_data"
    },
    {
     "name": "stdout",
     "output_type": "stream",
     "text": [
      "dog\n"
     ]
    }
   ],
   "source": [
    "predicted_value=model.predict(x_test)\n",
    "plt.imshow(x_test[51])\n",
    "plt.show()\n",
    "print(class_names[np.argmax(predicted_value[51], axis=0)])"
   ]
  },
  {
   "cell_type": "code",
   "execution_count": null,
   "id": "80c73997",
   "metadata": {},
   "outputs": [],
   "source": []
  }
 ],
 "metadata": {
  "kernelspec": {
   "display_name": "Python 3 (ipykernel)",
   "language": "python",
   "name": "python3"
  },
  "language_info": {
   "codemirror_mode": {
    "name": "ipython",
    "version": 3
   },
   "file_extension": ".py",
   "mimetype": "text/x-python",
   "name": "python",
   "nbconvert_exporter": "python",
   "pygments_lexer": "ipython3",
   "version": "3.10.11"
  }
 },
 "nbformat": 4,
 "nbformat_minor": 5
}
