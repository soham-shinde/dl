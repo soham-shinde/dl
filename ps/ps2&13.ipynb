{
 "cells": [
  {
   "cell_type": "markdown",
   "id": "4cb7adb6-5c95-49bc-8dfa-375d1f1ecac6",
   "metadata": {},
   "source": [
    "2)\tImplement the Image classification CNN model for classifying hand-written MNIST dataset by dividing the model into following 4 stages:\n",
    "a.\tLoading and preprocessing the image data\n",
    "b.\tDefining the model's architecture\n",
    "c.\tTraining the model\n",
    "d.\tEstimating the model's performance\n"
   ]
  },
  {
   "cell_type": "code",
   "execution_count": null,
   "id": "0ce847cd-a11f-49f9-bd06-8ba3046437ba",
   "metadata": {},
   "outputs": [],
   "source": [
    "import numpy as np\n",
    "import matplotlib.pyplot as plt\n",
    "import tensorflow as tf\n",
    "from tensorflow import keras\n",
    "from keras.datasets import mnist"
   ]
  },
  {
   "cell_type": "code",
   "execution_count": null,
   "id": "14b7bf2f-e183-4dc0-ab57-26d69df14330",
   "metadata": {},
   "outputs": [],
   "source": [
    "(x_train, y_train), (x_test, y_test) = keras.datasets.mnist.load_data()"
   ]
  },
  {
   "cell_type": "code",
   "execution_count": 1,
   "id": "31713981-c770-4c83-ac44-c53e35baa151",
   "metadata": {},
   "outputs": [
    {
     "ename": "NameError",
     "evalue": "name 'x_train' is not defined",
     "output_type": "error",
     "traceback": [
      "\u001b[1;31m---------------------------------------------------------------------------\u001b[0m",
      "\u001b[1;31mNameError\u001b[0m                                 Traceback (most recent call last)",
      "Cell \u001b[1;32mIn[1], line 2\u001b[0m\n\u001b[0;32m      1\u001b[0m \u001b[38;5;66;03m#shape of numpy arrays\u001b[39;00m\n\u001b[1;32m----> 2\u001b[0m \u001b[38;5;28mprint\u001b[39m(\u001b[38;5;124mf\u001b[39m\u001b[38;5;124m\"\u001b[39m\u001b[38;5;124mShape of X_train \u001b[39m\u001b[38;5;132;01m{\u001b[39;00m\u001b[43mx_train\u001b[49m\u001b[38;5;241m.\u001b[39mshape\u001b[38;5;132;01m}\u001b[39;00m\u001b[38;5;124m\"\u001b[39m)\n\u001b[0;32m      3\u001b[0m \u001b[38;5;28mprint\u001b[39m(\u001b[38;5;124mf\u001b[39m\u001b[38;5;124m\"\u001b[39m\u001b[38;5;124mShape of y_train \u001b[39m\u001b[38;5;132;01m{\u001b[39;00my_train\u001b[38;5;241m.\u001b[39mshape\u001b[38;5;132;01m}\u001b[39;00m\u001b[38;5;124m\"\u001b[39m)\n\u001b[0;32m      4\u001b[0m \u001b[38;5;28mprint\u001b[39m(\u001b[38;5;124mf\u001b[39m\u001b[38;5;124m\"\u001b[39m\u001b[38;5;124mShape of x_test  \u001b[39m\u001b[38;5;132;01m{\u001b[39;00mx_test\u001b[38;5;241m.\u001b[39mshape\u001b[38;5;132;01m}\u001b[39;00m\u001b[38;5;124m\"\u001b[39m)\n",
      "\u001b[1;31mNameError\u001b[0m: name 'x_train' is not defined"
     ]
    }
   ],
   "source": [
    "#shape of numpy arrays\n",
    "print(f\"Shape of X_train {x_train.shape}\")\n",
    "print(f\"Shape of y_train {y_train.shape}\")\n",
    "print(f\"Shape of x_test  {x_test.shape}\")\n",
    "print(f\"Shape of y_test  {y_test.shape}\")\n",
    "# x_train( 60k images of 28*28 dimention) Pixel values range from 0 to 255.\n",
    "# y_train: digit labels (integers in range 0-9)"
   ]
  },
  {
   "cell_type": "code",
   "execution_count": null,
   "id": "c3f7bf0d-e05d-4e50-aa58-64011e7182b0",
   "metadata": {},
   "outputs": [],
   "source": [
    "#displaying the image\n",
    "plt.imshow(x_train[25])\n",
    "plt.show()\n",
    "\n",
    "#printing corresponding label\n",
    "print(y_train[25])"
   ]
  },
  {
   "cell_type": "code",
   "execution_count": null,
   "id": "f8497c14-23b5-4c4a-9b18-0512d354a3cd",
   "metadata": {},
   "outputs": [],
   "source": [
    "#unique values in Y_rain\n",
    "print(np.unique(y_train))\n",
    "print(np.unique(y_test))"
   ]
  },
  {
   "cell_type": "code",
   "execution_count": null,
   "id": "4a6c1b83-8be5-45cd-9a7b-d55107629cd0",
   "metadata": {},
   "outputs": [],
   "source": [
    "#scaling the values\n",
    "x_train = x_train/255\n",
    "x_test = x_test/255\n",
    "# 0/255 = 255\n",
    "#255/255 = 1 maximum value"
   ]
  },
  {
   "cell_type": "code",
   "execution_count": null,
   "id": "70064ca7-5fab-4071-8d63-90f79e2aab0e",
   "metadata": {},
   "outputs": [],
   "source": [
    "print(x_train.shape, x_test.shape)"
   ]
  },
  {
   "cell_type": "code",
   "execution_count": null,
   "id": "b8228d09-95bd-4130-97a4-b6a6c5a18a64",
   "metadata": {},
   "outputs": [],
   "source": [
    "model = keras.Sequential([\n",
    "    keras.layers.Flatten(input_shape=(28,28)),\n",
    "    keras.layers.Dense(50,activation='relu',name='L1'),\n",
    "    keras.layers.Dense(50,activation='relu',name='L2'),\n",
    "    keras.layers.Dense(10,activation='softmax',name='L3')\n",
    "])"
   ]
  },
  {
   "cell_type": "code",
   "execution_count": null,
   "id": "ff406a3a-a177-4e58-965f-41ac69bffa34",
   "metadata": {},
   "outputs": [],
   "source": [
    "model.compile(optimizer=\"sgd\",loss=tf.keras.losses.SparseCategoricalCrossentropy(),\n",
    "              metrics=['accuracy'])"
   ]
  },
  {
   "cell_type": "code",
   "execution_count": null,
   "id": "e73d700a-cc4a-4173-92c3-1cd8b9525143",
   "metadata": {},
   "outputs": [],
   "source": [
    "history = model.fit(x_train, y_train,\n",
    "              batch_size=30,\n",
    "              epochs=10,\n",
    "              validation_data=(x_test, y_test),\n",
    "              shuffle=True)"
   ]
  },
  {
   "cell_type": "code",
   "execution_count": null,
   "id": "35f48ce2-91f2-4927-8088-6973d810c5dc",
   "metadata": {},
   "outputs": [],
   "source": [
    "import seaborn as sns\n",
    "sns.lineplot(model.history.history)"
   ]
  },
  {
   "cell_type": "code",
   "execution_count": null,
   "id": "0656c1bc-605b-4538-a228-3f6fadb38a97",
   "metadata": {},
   "outputs": [],
   "source": [
    "# Plotting the Model Accuracy & Model Loss vs Epochs\n",
    "plt.figure(figsize=[15,8])\n",
    "\n",
    "# summarize history for accuracy\n",
    "plt.subplot(1,2,1)\n",
    "plt.plot(history.history['accuracy'])\n",
    "plt.plot(history.history['val_accuracy'])\n",
    "plt.title('Model Accuracy', size=25, pad=20)\n",
    "plt.ylabel('Accuracy', size=15)\n",
    "plt.xlabel('Epoch', size=15)\n",
    "plt.legend(['train', 'test'], loc='upper left')\n",
    "\n",
    "\n",
    "# summarize history for loss\n",
    "plt.subplot(1,2,2)\n",
    "plt.plot(history.history['loss'])\n",
    "plt.plot(history.history['val_loss'])\n",
    "plt.title('Model Loss', size=25, pad=20)\n",
    "plt.ylabel('Loss', size=15)\n",
    "plt.xlabel('Epoch', size=15)\n",
    "plt.legend(['train', 'test'], loc='upper left')\n",
    "plt.show()"
   ]
  },
  {
   "cell_type": "code",
   "execution_count": null,
   "id": "fdf64e11-7a98-4433-99d4-0b144cbcbedd",
   "metadata": {},
   "outputs": [],
   "source": [
    "loss,accuracy = model.evaluate(x_test,y_test)"
   ]
  },
  {
   "cell_type": "code",
   "execution_count": null,
   "id": "d57fc5de-c02c-4f1a-af37-4862d26d0fef",
   "metadata": {},
   "outputs": [],
   "source": [
    "predicted_value=model.predict(x_test)\n",
    "plt.imshow(x_test[15])\n",
    "plt.show()\n",
    "print(np.argmax(predicted_value[15], axis=0))"
   ]
  }
 ],
 "metadata": {
  "kernelspec": {
   "display_name": "Python 3 (ipykernel)",
   "language": "python",
   "name": "python3"
  },
  "language_info": {
   "codemirror_mode": {
    "name": "ipython",
    "version": 3
   },
   "file_extension": ".py",
   "mimetype": "text/x-python",
   "name": "python",
   "nbconvert_exporter": "python",
   "pygments_lexer": "ipython3",
   "version": "3.10.11"
  }
 },
 "nbformat": 4,
 "nbformat_minor": 5
}
