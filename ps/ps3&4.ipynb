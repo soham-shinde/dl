{
 "cells": [
  {
   "cell_type": "code",
   "execution_count": null,
   "id": "1f43b5d1-d008-4c3c-8937-0ef561e11c9d",
   "metadata": {},
   "outputs": [],
   "source": [
    "import tensorflow as tf\n",
    "from tensorflow import keras\n",
    "import matplotlib.pyplot as plt\n",
    "import random\n",
    "import numpy as np"
   ]
  },
  {
   "cell_type": "code",
   "execution_count": null,
   "id": "ef78dade-4d2f-4c30-a6d6-55c634cdd349",
   "metadata": {},
   "outputs": [],
   "source": [
    "cifar10 = tf.keras.datasets.cifar10 # Importing cifar10 dataset\n",
    "(x_train, y_train), (x_test, y_test) = cifar10.load_data() # Splitting it into training and testing data\n",
    "\n",
    "for i in (x_train, y_train, x_test, y_test):\n",
    "  print(i.shape)"
   ]
  },
  {
   "cell_type": "code",
   "execution_count": null,
   "id": "4dc2983d-ade0-4678-92f3-bc19039e77f9",
   "metadata": {},
   "outputs": [],
   "source": [
    "plt.imshow(x_train[25])\n",
    "print(y_train[25])\n",
    "plt.show()"
   ]
  },
  {
   "cell_type": "code",
   "execution_count": null,
   "id": "2cb169b9-e3fe-4725-95db-c10157f4bf89",
   "metadata": {},
   "outputs": [],
   "source": [
    "#scaling the values\n",
    "x_train = x_train/255\n",
    "x_test = x_test/255\n",
    "# 0/255 = 255\n",
    "#255/255 = 1 maximum value"
   ]
  },
  {
   "cell_type": "code",
   "execution_count": null,
   "id": "6f5542d7-53a4-428d-9d8f-a925efa31f20",
   "metadata": {},
   "outputs": [],
   "source": [
    "print(x_train.shape, x_test.shape)"
   ]
  },
  {
   "cell_type": "code",
   "execution_count": null,
   "id": "8fcd19d9-1ded-49d5-a4e1-6e4ceaac921c",
   "metadata": {},
   "outputs": [],
   "source": [
    "num_classes = 10\n",
    "class_names = ['airplane','automobile','bird','cat','deer',\n",
    "               'dog','frog','horse','ship','truck']"
   ]
  },
  {
   "cell_type": "code",
   "execution_count": null,
   "id": "31593f1d-262f-42eb-92e6-5093353bf846",
   "metadata": {},
   "outputs": [],
   "source": [
    "# Convert class vectors to binary class matrices.\n",
    "y_train = tf.keras.utils.to_categorical(y_train, num_classes)\n",
    "y_test = tf.keras.utils.to_categorical(y_test, num_classes)"
   ]
  },
  {
   "cell_type": "code",
   "execution_count": null,
   "id": "0d76229d-a6e8-460c-aee4-b984cf981c91",
   "metadata": {},
   "outputs": [],
   "source": [
    "print(y_train.shape, y_test.shape)"
   ]
  },
  {
   "cell_type": "code",
   "execution_count": null,
   "id": "7760761f-9510-4c03-a9ea-24753e52e718",
   "metadata": {},
   "outputs": [],
   "source": [
    "from tensorflow import keras\n",
    "\n",
    "# Create a sequential model\n",
    "model = keras.Sequential()\n",
    "\n",
    "# Convolutional layers\n",
    "model.add(keras.layers.Conv2D(32, (3, 3), activation='relu', input_shape=(32, 32, 3)))\n",
    "model.add(keras.layers.MaxPooling2D((2, 2)))\n",
    "model.add(keras.layers.Conv2D(64, (3, 3), activation='relu'))\n",
    "model.add(keras.layers.MaxPooling2D((2, 2)))\n",
    "model.add(keras.layers.Conv2D(64, (3, 3), activation='relu'))\n",
    "\n",
    "# Fully connected layers\n",
    "model.add(keras.layers.Flatten())\n",
    "model.add(keras.layers.Dense(64, activation='relu'))\n",
    "model.add(keras.layers.Dense(10, activation='softmax'))  # 10 classes for classification\n",
    "\n",
    "# Compile the model\n",
    "model.compile(optimizer='sgd', loss='categorical_crossentropy', metrics=['accuracy'])\n",
    "\n",
    "# Print the model summary to check the architecture\n",
    "model.summary()\n"
   ]
  },
  {
   "cell_type": "code",
   "execution_count": null,
   "id": "49a21b89-c864-4c20-8bb9-a730fe63a474",
   "metadata": {},
   "outputs": [],
   "source": [
    "# Training the model\n",
    "history = model.fit(x_train, y_train,\n",
    "              batch_size=30,\n",
    "              epochs=10,\n",
    "              validation_data=(x_test, y_test),\n",
    "              shuffle=True)"
   ]
  },
  {
   "cell_type": "code",
   "execution_count": null,
   "id": "6ebc4d77-22c2-4515-b74c-04f84be22ee7",
   "metadata": {},
   "outputs": [],
   "source": [
    "import seaborn as sns\n",
    "sns.lineplot(model.history.history)"
   ]
  },
  {
   "cell_type": "code",
   "execution_count": null,
   "id": "e0d6ce44-a7a2-4299-9621-468282d57e88",
   "metadata": {},
   "outputs": [],
   "source": [
    "# Plotting the Model Accuracy & Model Loss vs Epochs\n",
    "plt.figure(figsize=[10,8])\n",
    "\n",
    "# summarize history for accuracy\n",
    "plt.subplot(1,2,1)\n",
    "plt.plot(history.history['accuracy'])\n",
    "plt.plot(history.history['val_accuracy'])\n",
    "plt.title('Model Accuracy', size=25, pad=20)\n",
    "plt.ylabel('Accuracy', size=15)\n",
    "plt.xlabel('Epoch', size=15)\n",
    "plt.legend(['train', 'test'], loc='upper left')\n",
    "\n",
    "\n",
    "# summarize history for loss\n",
    "plt.subplot(1,2,2)\n",
    "plt.plot(history.history['loss'])\n",
    "plt.plot(history.history['val_loss'])\n",
    "plt.title('Model Loss', size=25, pad=20)\n",
    "plt.ylabel('Loss', size=15)\n",
    "plt.xlabel('Epoch', size=15)\n",
    "plt.legend(['train', 'test'], loc='upper left')\n",
    "plt.show()"
   ]
  },
  {
   "cell_type": "code",
   "execution_count": null,
   "id": "0b89cf09-ae9c-4c9d-969a-4f4ae4e9315a",
   "metadata": {},
   "outputs": [],
   "source": [
    "predictions = model.predict(x_test)"
   ]
  },
  {
   "cell_type": "code",
   "execution_count": null,
   "id": "ff7171ed-2cdc-4092-a03c-2ff34f56a4a6",
   "metadata": {},
   "outputs": [],
   "source": [
    "class_names = ['airplane','automobile','bird','cat','deer','dog','frog','horse','ship','truck']"
   ]
  },
  {
   "cell_type": "code",
   "execution_count": null,
   "id": "d832e914-1d20-45fc-af07-f37cd9216815",
   "metadata": {},
   "outputs": [],
   "source": [
    "plt.figure(figsize=[10,10])\n",
    "plt.imshow(x_test[0].reshape(32, 32, -1))\n",
    "plt.title(\"Predicted value: \" + str(class_names[np.argmax(predictions[0], axis=0)]), size=20)\n",
    "plt.grid(False)"
   ]
  },
  {
   "cell_type": "code",
   "execution_count": null,
   "id": "fc67b939-bb79-4fd1-b294-f4ccdd5c7b0a",
   "metadata": {},
   "outputs": [],
   "source": [
    "plt.figure(figsize=[10,10])\n",
    "plt.imshow(x_test[100].reshape(32, 32, -1))\n",
    "plt.title(\"Predicted value: \" + str(class_names[np.argmax(predictions[100], axis=0)]), size=20)\n",
    "plt.grid(False)"
   ]
  }
 ],
 "metadata": {
  "kernelspec": {
   "display_name": "Python 3 (ipykernel)",
   "language": "python",
   "name": "python3"
  },
  "language_info": {
   "codemirror_mode": {
    "name": "ipython",
    "version": 3
   },
   "file_extension": ".py",
   "mimetype": "text/x-python",
   "name": "python",
   "nbconvert_exporter": "python",
   "pygments_lexer": "ipython3",
   "version": "3.10.11"
  }
 },
 "nbformat": 4,
 "nbformat_minor": 5
}
