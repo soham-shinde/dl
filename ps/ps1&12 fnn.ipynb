{
 "cells": [
  {
   "cell_type": "markdown",
   "id": "ecb419cc-8711-4b8e-aff3-ba116b01f7e4",
   "metadata": {},
   "source": [
    "# 1)\tImplementing Feedforward neural networks with Keras and TensorFlow for classification of hand-written MNIST dataset using below steps:\n",
    "**a.\tImport the necessary packages**\n",
    "b.\tLoad the training and testing data\n",
    "c.\tDefine the network architecture using Keras\n",
    "d.\tTrain the model using SGD with 11 epochs\n",
    "e.\tEvaluate the network\n",
    "f.\tPlot the training loss and accuracy**\n"
   ]
  },
  {
   "cell_type": "code",
   "execution_count": 4,
   "id": "89966292-a3de-4715-8a27-3fa5c6c5a988",
   "metadata": {},
   "outputs": [],
   "source": [
    "import tensorflow as tf\n",
    "from tensorflow import keras\n",
    "from tensorflow.keras.preprocessing.image import ImageDataGenerator\n",
    "import matplotlib.pyplot as plt\n",
    "import numpy as np"
   ]
  },
  {
   "cell_type": "code",
   "execution_count": 5,
   "id": "61061afc-d4c4-4586-ba78-2bc3b6220b66",
   "metadata": {},
   "outputs": [],
   "source": [
    "# Define the paths to the training and testing data directories\n",
    "train_data_dir = 'dataset/mnist-jpg/mnist-jpg/train'\n",
    "test_data_dir = 'dataset/mnist-jpg/mnist-jpg/test'"
   ]
  },
  {
   "cell_type": "code",
   "execution_count": null,
   "id": "98909e91-aa05-465a-92e6-00d77f355c71",
   "metadata": {},
   "outputs": [],
   "source": [
    "# Set up an ImageDataGenerator to rescale pixel values to [0, 1]\n",
    "image_data_generator = ImageDataGenerator(rescale=1.0/255)\n",
    "\n",
    "# Define batch sizes\n",
    "train_batch_size = 10000\n",
    "test_batch_size = 5000\n",
    "\n",
    "# Create data generators for training and testing\n",
    "train_generator = image_data_generator.flow_from_directory(\n",
    "    train_data_dir,\n",
    "    target_size=(28, 28),  # Resize images to 28x28 pixels\n",
    "    batch_size=train_batch_size,  # Number of images per training batch\n",
    "    class_mode='categorical',  # One-hot encoded labels\n",
    "    color_mode='grayscale',  # Convert images to grayscale\n",
    "    shuffle=True,  # Shuffle the order of images during training\n",
    ")\n",
    "\n",
    "test_generator = image_data_generator.flow_from_directory(\n",
    "    test_data_dir,\n",
    "    target_size=(28, 28),  # Resize images to 28x28 pixels\n",
    "    batch_size=test_batch_size,  # Number of images per testing batch\n",
    "    class_mode='categorical',  # One-hot encoded labels\n",
    "    color_mode='grayscale',  # Convert images to grayscale\n",
    "    shuffle=True,  # Shuffle the order of images during testing\n",
    ")"
   ]
  },
  {
   "cell_type": "code",
   "execution_count": null,
   "id": "4e853951-4b7e-4b67-8451-91b55c3f2754",
   "metadata": {},
   "outputs": [],
   "source": [
    "x_train, y_train = train_generator[0]\n",
    "x_test, y_test = test_generator[0]"
   ]
  },
  {
   "cell_type": "code",
   "execution_count": 6,
   "id": "a0ac5032-2905-4859-9d2b-5aee31aab3a2",
   "metadata": {},
   "outputs": [
    {
     "ename": "NameError",
     "evalue": "name 'x_train' is not defined",
     "output_type": "error",
     "traceback": [
      "\u001b[1;31m---------------------------------------------------------------------------\u001b[0m",
      "\u001b[1;31mNameError\u001b[0m                                 Traceback (most recent call last)",
      "Cell \u001b[1;32mIn[6], line 1\u001b[0m\n\u001b[1;32m----> 1\u001b[0m \u001b[38;5;28mprint\u001b[39m(\u001b[38;5;124mf\u001b[39m\u001b[38;5;124m\"\u001b[39m\u001b[38;5;124mShape of X_train \u001b[39m\u001b[38;5;132;01m{\u001b[39;00m\u001b[43mx_train\u001b[49m\u001b[38;5;241m.\u001b[39mshape\u001b[38;5;132;01m}\u001b[39;00m\u001b[38;5;124m\"\u001b[39m)\n\u001b[0;32m      2\u001b[0m \u001b[38;5;28mprint\u001b[39m(\u001b[38;5;124mf\u001b[39m\u001b[38;5;124m\"\u001b[39m\u001b[38;5;124mShape of y_train \u001b[39m\u001b[38;5;132;01m{\u001b[39;00my_train\u001b[38;5;241m.\u001b[39mshape\u001b[38;5;132;01m}\u001b[39;00m\u001b[38;5;124m\"\u001b[39m)\n\u001b[0;32m      3\u001b[0m \u001b[38;5;28mprint\u001b[39m(\u001b[38;5;124mf\u001b[39m\u001b[38;5;124m\"\u001b[39m\u001b[38;5;124mShape of x_test  \u001b[39m\u001b[38;5;132;01m{\u001b[39;00mx_test\u001b[38;5;241m.\u001b[39mshape\u001b[38;5;132;01m}\u001b[39;00m\u001b[38;5;124m\"\u001b[39m)\n",
      "\u001b[1;31mNameError\u001b[0m: name 'x_train' is not defined"
     ]
    }
   ],
   "source": [
    "print(f\"Shape of X_train {x_train.shape}\")\n",
    "print(f\"Shape of y_train {y_train.shape}\")\n",
    "print(f\"Shape of x_test  {x_test.shape}\")\n",
    "print(f\"Shape of y_test  {y_test.shape}\")"
   ]
  },
  {
   "cell_type": "code",
   "execution_count": null,
   "id": "883b3bee-733d-4840-9733-f91b9860fa0d",
   "metadata": {},
   "outputs": [],
   "source": [
    "\n",
    "model = keras.Sequential([\n",
    "    keras.layers.Flatten(input_shape=(28,28)),\n",
    "    keras.layers.Dense(50,activation='relu',name='L1'),\n",
    "    keras.layers.Dense(50,activation='relu',name='L2'),\n",
    "    keras.layers.Dense(10,activation='softmax',name='L3')\n",
    "])"
   ]
  },
  {
   "cell_type": "code",
   "execution_count": null,
   "id": "23613113-4160-4375-96bf-e1847796268e",
   "metadata": {},
   "outputs": [],
   "source": [
    "model.compile(optimizer='sgd', loss='categorical_crossentropy', metrics=['accuracy'])\n",
    "history = model.fit(x_train, y_train, epochs=10, validation_data=(x_test, y_test), batch_size=10, shuffle=True)"
   ]
  },
  {
   "cell_type": "code",
   "execution_count": null,
   "id": "a6a3a9e8-d8a9-4388-9c9b-88df0e8c32f8",
   "metadata": {},
   "outputs": [],
   "source": [
    "import seaborn as sns\n",
    "sns.lineplot(model.history.history)"
   ]
  },
  {
   "cell_type": "code",
   "execution_count": null,
   "id": "945ffabf-4b29-4280-b5f6-832d45bacaae",
   "metadata": {},
   "outputs": [],
   "source": [
    "test_loss, test_acc = model.evaluate(x_test, y_test)\n",
    "print(\"Loss: \", test_loss)\n",
    "print(\"Accuracy: \", test_acc)"
   ]
  },
  {
   "cell_type": "code",
   "execution_count": null,
   "id": "ab7e5658-ee87-4202-a76c-c5424f0d3848",
   "metadata": {},
   "outputs": [],
   "source": [
    "predicted_value=model.predict(x_test)\n",
    "plt.imshow(x_test[15])\n",
    "plt.show()\n",
    "print(np.argmax(predicted_value[15], axis=0))"
   ]
  }
 ],
 "metadata": {
  "kernelspec": {
   "display_name": "Python 3 (ipykernel)",
   "language": "python",
   "name": "python3"
  },
  "language_info": {
   "codemirror_mode": {
    "name": "ipython",
    "version": 3
   },
   "file_extension": ".py",
   "mimetype": "text/x-python",
   "name": "python",
   "nbconvert_exporter": "python",
   "pygments_lexer": "ipython3",
   "version": "3.10.11"
  }
 },
 "nbformat": 4,
 "nbformat_minor": 5
}
