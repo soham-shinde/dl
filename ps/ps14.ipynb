{
 "cells": [
  {
   "cell_type": "markdown",
   "id": "c34d50b6-f8a2-4b53-9f64-46cacbd5857d",
   "metadata": {},
   "source": [
    "14)\tUse Autoencoder to implement anomaly detection on ecg dataset. Build the model by using:\n",
    "a.\tImport required libraries\n",
    "b.\tUpload / access the dataset\n",
    "c.\tEncoder converts it into latent representation\n",
    "d.\tDecoder networks convert it back to the original input\n",
    "e.\tCompile the models with Optimizer, Loss, and Evaluation Metrics\n"
   ]
  },
  {
   "cell_type": "code",
   "execution_count": null,
   "id": "2a387e89-997e-45f5-9c07-f7a7853bc9cd",
   "metadata": {},
   "outputs": [],
   "source": [
    "import tensorflow as tf\n",
    "import pandas as pd\n",
    "import numpy as np"
   ]
  },
  {
   "cell_type": "code",
   "execution_count": null,
   "id": "96adfe72-a80e-4ec7-8cb8-95d0eb93f886",
   "metadata": {},
   "outputs": [],
   "source": [
    "path = 'dataset/ecg.csv'\n",
    "df = pd.read_csv(path,header=None)"
   ]
  },
  {
   "cell_type": "code",
   "execution_count": null,
   "id": "fb2876c1-2547-4e4e-9d25-e8bc60a70b13",
   "metadata": {},
   "outputs": [],
   "source": [
    "df = df.drop(140, axis=1) \n",
    "df"
   ]
  },
  {
   "cell_type": "code",
   "execution_count": null,
   "id": "cc4fe666-2817-45d4-ad91-344eded21ce0",
   "metadata": {},
   "outputs": [],
   "source": [
    "from sklearn.preprocessing import StandardScaler\n",
    "\n",
    "StandardScaler = StandardScaler()\n",
    "df = StandardScaler.fit_transform(df)"
   ]
  },
  {
   "cell_type": "code",
   "execution_count": null,
   "id": "d37e4e43-3427-4903-be5f-501ad53b6e7a",
   "metadata": {},
   "outputs": [],
   "source": [
    "# Preprocess the data\n",
    "from sklearn.preprocessing import StandardScaler\n",
    "from sklearn.model_selection import train_test_split\n",
    "\n",
    "x_train, x_test = train_test_split(df, test_size=0.2)"
   ]
  },
  {
   "cell_type": "code",
   "execution_count": null,
   "id": "00fc0950-4cf4-40c6-8c46-0f8521a54401",
   "metadata": {},
   "outputs": [],
   "source": [
    "print(x_train.shape[1])\n",
    "print(x_test.shape[1])\n",
    "type(x_train)"
   ]
  },
  {
   "cell_type": "code",
   "execution_count": null,
   "id": "5ff5603d-c3b3-4872-989b-1f7a551d456f",
   "metadata": {},
   "outputs": [],
   "source": [
    "from keras.models import Model, Sequential\n",
    "from tensorflow.keras.layers import Dense, Dropout\n",
    "from tensorflow.keras import layers, models"
   ]
  },
  {
   "cell_type": "code",
   "execution_count": null,
   "id": "ba940b7d-4366-4a38-aaf4-490b65750e44",
   "metadata": {},
   "outputs": [],
   "source": [
    "encoder = tf.keras.models.Sequential([\n",
    "    layers.Input(shape=(x_train.shape[1],)),\n",
    "    layers.Dense(32, activation='relu'),\n",
    "    layers.Dense(16, activation='relu'),\n",
    "    layers.Dense(8, activation='relu')\n",
    "])\n",
    "        \n",
    "decoder = tf.keras.models.Sequential([\n",
    "    layers.Input(shape=(8,)),\n",
    "    layers.Dense(16, activation='relu'),\n",
    "    layers.Dense(32, activation='relu'),\n",
    "    layers.Dense(x_train.shape[1], activation='linear')  # Use linear activation for reconstruction\n",
    "])\n",
    "        \n",
    "model = tf.keras.models.Sequential([\n",
    "    encoder,\n",
    "    decoder\n",
    "])"
   ]
  },
  {
   "cell_type": "code",
   "execution_count": null,
   "id": "8098ec22-6650-4f85-bdcf-c956ed256c81",
   "metadata": {},
   "outputs": [],
   "source": [
    "model.compile(optimizer='adam', loss ='mean_squared_error')"
   ]
  },
  {
   "cell_type": "code",
   "execution_count": null,
   "id": "2337b726-cdad-4287-922f-0c7f0b4100a1",
   "metadata": {},
   "outputs": [],
   "source": [
    "history = model.fit(\n",
    "    x_train, \n",
    "    x_train, \n",
    "    validation_data=(x_test,x_test),\n",
    "    epochs=10,\n",
    "    batch_size = 30,\n",
    "    shuffle=True\n",
    ")"
   ]
  },
  {
   "cell_type": "code",
   "execution_count": null,
   "id": "48c265a9-9cba-4f6e-81e7-a1c63010848d",
   "metadata": {},
   "outputs": [],
   "source": [
    "import seaborn as sns\n",
    "sns.lineplot(model.history.history)"
   ]
  },
  {
   "cell_type": "code",
   "execution_count": null,
   "id": "f38fa17c-f9b6-446b-863c-8ef177b83216",
   "metadata": {},
   "outputs": [],
   "source": [
    "predictions = model.predict(x_test)\n",
    "mse = np.mean(np.power(x_test - predictions, 2), axis=1)"
   ]
  },
  {
   "cell_type": "code",
   "execution_count": null,
   "id": "2ae80bc7-f13d-409a-8aed-43d85db6b8a4",
   "metadata": {},
   "outputs": [],
   "source": [
    "threshold = np.percentile(mse, 95)  # Adjust the percentile as needed\n",
    "threshold"
   ]
  },
  {
   "cell_type": "code",
   "execution_count": null,
   "id": "108c6a4a-ed6b-4e60-9f62-b8b6d91740c3",
   "metadata": {},
   "outputs": [],
   "source": [
    "anomalies = mse > threshold"
   ]
  },
  {
   "cell_type": "code",
   "execution_count": null,
   "id": "e866ad6c-900b-4281-8351-d3ac0c0ded05",
   "metadata": {},
   "outputs": [],
   "source": [
    "# Calculate the number of anomalies\n",
    "num_anomalies = np.sum(anomalies)\n",
    "print(f\"Number of Anomalies: {num_anomalies}\")"
   ]
  },
  {
   "cell_type": "code",
   "execution_count": null,
   "id": "4ce94ca1-2411-45a3-86c3-bc0283be6afc",
   "metadata": {},
   "outputs": [],
   "source": [
    "import matplotlib.pyplot as plot\n",
    "\n",
    "plt.plot(mse, marker='o', linestyle='', markersize=3, label='MSE')\n",
    "plt.axhline(threshold, color='r', linestyle='--', label='Anomaly Threshold')\n",
    "plt.xlabel('Sample Index')\n",
    "plt.ylabel('MSE')\n",
    "plt.title('Anomaly Detection Results')\n",
    "plt.legend()\n",
    "plt.show()"
   ]
  },
  {
   "cell_type": "code",
   "execution_count": null,
   "id": "dbbbb22a-d099-485f-bdb8-9ec7db16acba",
   "metadata": {},
   "outputs": [],
   "source": [
    "plt.figure(figsize=(12, 6))\n",
    "plt.plot(x_test[0], label='Original ECG')\n",
    "plt.plot(predictions[0], label='Reconstructed ECG')\n",
    "plt.xlabel('Time')\n",
    "plt.ylabel('Amplitude')\n",
    "plt.legend()\n",
    "plt.title('Normal ECG')\n",
    "plt.show()"
   ]
  },
  {
   "cell_type": "code",
   "execution_count": null,
   "id": "580c17b0-7e3b-4768-9811-db95cfa0a03e",
   "metadata": {},
   "outputs": [],
   "source": [
    "import seaborn as sns\n",
    "from sklearn.metrics import confusion_matrix, classification_report\n",
    "\n",
    "sns.heatmap(confusion_matrix(anomalies, anomalies), annot = True, fmt = 'd')\n",
    "plt.xlabel(\"Predicted label\", fontsize = 14)\n",
    "plt.ylabel(\"True label\", fontsize = 14)\n",
    "plt.title(\"Confusion Matrix\", fontsize = 14)\n",
    "plt.show()"
   ]
  }
 ],
 "metadata": {
  "kernelspec": {
   "display_name": "Python 3 (ipykernel)",
   "language": "python",
   "name": "python3"
  },
  "language_info": {
   "codemirror_mode": {
    "name": "ipython",
    "version": 3
   },
   "file_extension": ".py",
   "mimetype": "text/x-python",
   "name": "python",
   "nbconvert_exporter": "python",
   "pygments_lexer": "ipython3",
   "version": "3.10.11"
  }
 },
 "nbformat": 4,
 "nbformat_minor": 5
}
