{
 "cells": [
  {
   "cell_type": "markdown",
   "id": "5745ccb8-9f82-47bc-bd48-d6735f17d121",
   "metadata": {},
   "source": [
    "6)\tImplement the Continuous Bag of Words (CBOW) Model for the given (textual document 1) using the below steps:\n",
    "a.\tData preparation\n",
    "b.\tGenerate training data\n",
    "c.\tTrain model\n",
    "d.\tOutput\n"
   ]
  },
  {
   "cell_type": "code",
   "execution_count": null,
   "id": "7eedfd54-4e2c-4bda-9b4d-9c2e178f2a3e",
   "metadata": {},
   "outputs": [],
   "source": [
    "import numpy as np\n",
    "import re"
   ]
  },
  {
   "cell_type": "code",
   "execution_count": null,
   "id": "ef6be11b-c759-49c5-89c9-177f219861fc",
   "metadata": {},
   "outputs": [],
   "source": [
    "data = \"\"\"Deep learning (also known as deep structured learning) is part of a broader family of machine learning methods based on artificial neural networks with representation learning. Learning can be supervised, semi-supervised or unsupervised. Deep-learning architectures such as deep neural networks, deep belief networks, deep reinforcement learning, recurrent neural networks, convolutional neural networks and Transformers have been applied to fields including computer vision, speech recognition, natural language processing, machine translation, bioinformatics, drug design, medical image analysis, climate science, material inspection and board game programs, where they have produced results comparable to and in some cases surpassing human expert performance.\"\"\"\n",
    "data"
   ]
  },
  {
   "cell_type": "code",
   "execution_count": null,
   "id": "6c396369-e201-44b6-a9f1-9316a9d2b28e",
   "metadata": {},
   "outputs": [],
   "source": [
    "sentences = data.split('.')\n",
    "sentences"
   ]
  },
  {
   "cell_type": "code",
   "execution_count": null,
   "id": "10412185-a8bf-46a3-9080-8ae42bc30ebb",
   "metadata": {},
   "outputs": [],
   "source": [
    "clean_sent=[]\n",
    "for sentence in sentences:\n",
    "    if sentence==\"\":\n",
    "        continue\n",
    "    sentence = re.sub('[^A-Za-z0-9]+', ' ', (sentence))\n",
    "    sentence = re.sub(r'(?:^| )\\w (?:$| )', ' ', (sentence)).strip()\n",
    "    sentence = sentence.lower()\n",
    "    clean_sent.append(sentence)\n",
    "\n",
    "clean_sent"
   ]
  },
  {
   "cell_type": "code",
   "execution_count": null,
   "id": "d4712e8c-f567-4d72-b645-683b5d739375",
   "metadata": {},
   "outputs": [],
   "source": [
    "from tensorflow.keras.preprocessing.text import Tokenizer"
   ]
  },
  {
   "cell_type": "code",
   "execution_count": null,
   "id": "8d8df362-3c00-4045-929f-d11a3d7c4ab8",
   "metadata": {},
   "outputs": [],
   "source": [
    "tokenizer = Tokenizer()\n",
    "tokenizer.fit_on_texts(clean_sent)\n",
    "sequences = tokenizer.texts_to_sequences(clean_sent)\n",
    "print(sequences)"
   ]
  },
  {
   "cell_type": "code",
   "execution_count": null,
   "id": "a924d06d-8a04-4b67-865e-9931d4247fff",
   "metadata": {},
   "outputs": [],
   "source": [
    "index_to_word = {}\n",
    "word_to_index = {}\n",
    "\n",
    "for i, sequence in enumerate(sequences):\n",
    "#     print(sequence)\n",
    "    word_in_sentence = clean_sent[i].split()\n",
    "#     print(word_in_sentence)\n",
    "    \n",
    "    for j, value in enumerate(sequence):\n",
    "        index_to_word[value] = word_in_sentence[j]\n",
    "        word_to_index[word_in_sentence[j]] = value\n",
    "\n",
    "print(index_to_word, \"\\n\")\n",
    "print(word_to_index)"
   ]
  },
  {
   "cell_type": "code",
   "execution_count": null,
   "id": "cfa8b4d0-5830-4274-82fe-3572f37d7af8",
   "metadata": {},
   "outputs": [],
   "source": [
    "vocab_size = len(tokenizer.word_index) + 1\n",
    "emb_size = 10\n",
    "context_size = 2\n",
    "\n",
    "contexts = []\n",
    "targets = []\n",
    "\n",
    "for sequence in sequences:\n",
    "    for i in range(context_size, len(sequence) - context_size):\n",
    "        target = sequence[i]\n",
    "        context = [sequence[i - 2], sequence[i - 1], sequence[i + 1], sequence[i + 2]]\n",
    "#         print(context)\n",
    "        contexts.append(context)\n",
    "        targets.append(target)\n",
    "print(contexts, \"\\n\")\n",
    "print(targets)"
   ]
  },
  {
   "cell_type": "code",
   "execution_count": null,
   "id": "c35e50c6-096c-49f9-9e21-c05566b4b665",
   "metadata": {},
   "outputs": [],
   "source": [
    "#printing features with target\n",
    "for i in range(5):\n",
    "    words = []\n",
    "    target = index_to_word.get(targets[i])\n",
    "    for j in contexts[i]:\n",
    "        words.append(index_to_word.get(j))\n",
    "    print(words,\" -> \", target)"
   ]
  },
  {
   "cell_type": "code",
   "execution_count": null,
   "id": "8bbebbff-4186-42cb-99ae-42116db14f60",
   "metadata": {},
   "outputs": [],
   "source": [
    "# Convert the contexts and targets to numpy arrays\n",
    "X = np.array(contexts)\n",
    "Y = np.array(targets)"
   ]
  },
  {
   "cell_type": "code",
   "execution_count": null,
   "id": "e75f8d5b-e2ce-456d-bbde-f837f1ceece1",
   "metadata": {},
   "outputs": [],
   "source": [
    "import tensorflow as tf\n",
    "from tensorflow.keras.models import Sequential\n",
    "from tensorflow.keras.layers import Dense, Embedding, Lambda "
   ]
  },
  {
   "cell_type": "code",
   "execution_count": null,
   "id": "4378bb71-fa89-4c69-bfdc-c3dbf8bee9c7",
   "metadata": {},
   "outputs": [],
   "source": [
    "model = Sequential([\n",
    "    Embedding(input_dim=vocab_size, output_dim=emb_size, input_length=2*context_size),\n",
    "    Lambda(lambda x: tf.reduce_mean(x, axis=1)),\n",
    "    Dense(256, activation='relu'),\n",
    "    Dense(512, activation='relu'),\n",
    "    Dense(vocab_size, activation='softmax')\n",
    "])\n"
   ]
  },
  {
   "cell_type": "code",
   "execution_count": null,
   "id": "c1d037ce-8750-4fec-a081-44f41942a176",
   "metadata": {},
   "outputs": [],
   "source": [
    "model.compile(loss='sparse_categorical_crossentropy', optimizer='adam', metrics=['accuracy'])"
   ]
  },
  {
   "cell_type": "code",
   "execution_count": null,
   "id": "5f878a59-3806-4757-b390-b6a61b0f3656",
   "metadata": {},
   "outputs": [],
   "source": [
    "history = model.fit(X, Y, epochs=80)"
   ]
  },
  {
   "cell_type": "code",
   "execution_count": null,
   "id": "8590b95c-1687-4bef-b33d-add352cad9b2",
   "metadata": {},
   "outputs": [],
   "source": [
    "import seaborn as sns\n",
    "sns.lineplot(model.history.history)"
   ]
  },
  {
   "cell_type": "code",
   "execution_count": null,
   "id": "2f411205-4e6e-4faa-8022-b21709cda3ba",
   "metadata": {},
   "outputs": [],
   "source": [
    "from sklearn.decomposition import PCA\n",
    "\n",
    "embeddings = model.get_weights()[0]\n",
    "\n",
    "pca = PCA(n_components=2)\n",
    "reduced_embeddings = pca.fit_transform(embeddings)"
   ]
  },
  {
   "cell_type": "code",
   "execution_count": null,
   "id": "05aaa0a3-e23d-451f-938b-8bb653476557",
   "metadata": {},
   "outputs": [],
   "source": [
    "print(\"'Deep learning (also known as deep structured learning) is part of a broader family of machine learning methods based on artificial neural networks with representation learning. Learning can be supervised, semi-supervised or unsupervised. Deep-learning architectures such as deep neural networks, deep belief networks, deep reinforcement learning, recurrent neural networks, convolutional neural networks and Transformers have been applied to fields including computer vision, speech recognition, natural language processing, machine translation, bioinformatics, drug design, medical image analysis, climate science, material inspection and board game programs, where they have produced results comparable to and in some cases surpassing human expert performance.\")"
   ]
  },
  {
   "cell_type": "code",
   "execution_count": null,
   "id": "80d64d02-d5fb-4ac5-a5f1-c7b84a9b43f2",
   "metadata": {},
   "outputs": [],
   "source": [
    "# test model: select some sentences from above paragraph\n",
    "test_sentenses = [\n",
    "    \"known as structured learning\",\n",
    "    \"transformers have applied to\",\n",
    "    \"where they produced results\",\n",
    "    \"cases surpassing expert performance\"\n",
    "]"
   ]
  },
  {
   "cell_type": "code",
   "execution_count": null,
   "id": "71bebb44-51a7-497c-89d2-432ca3fc6125",
   "metadata": {},
   "outputs": [],
   "source": [
    "for sent in test_sentenses:\n",
    "    test_words = sent.split(\" \")\n",
    "#     print(test_words)\n",
    "    x_test =[]\n",
    "    for i in test_words:\n",
    "        x_test.append(word_to_index.get(i))\n",
    "    x_test = np.array([x_test])\n",
    "#     print(x_test)\n",
    "    \n",
    "    pred = model.predict(x_test)\n",
    "    pred = np.argmax(pred[0])\n",
    "    print(\"pred \", test_words, \"\\n=\", index_to_word.get(pred),\"\\n\\n\")"
   ]
  }
 ],
 "metadata": {
  "kernelspec": {
   "display_name": "Python 3 (ipykernel)",
   "language": "python",
   "name": "python3"
  },
  "language_info": {
   "codemirror_mode": {
    "name": "ipython",
    "version": 3
   },
   "file_extension": ".py",
   "mimetype": "text/x-python",
   "name": "python",
   "nbconvert_exporter": "python",
   "pygments_lexer": "ipython3",
   "version": "3.10.11"
  }
 },
 "nbformat": 4,
 "nbformat_minor": 5
}
